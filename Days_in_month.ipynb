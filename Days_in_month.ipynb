{
 "cells": [
  {
   "cell_type": "markdown",
   "id": "a8ed3ee7",
   "metadata": {},
   "source": [
    "##Task\n",
    "\n",
    "Convert the is_leap() functtion\n",
    "In the starting code, you'll find the solution from the Leap Year challenge. First, convert this function is_leap() so that instead of printing \"Leap year.\" or \"Not leap year.\" it should return True if it is a leap year and return False if it is not a leap year.\n",
    "\n",
    "Create a new function called days_in_month()\n",
    "You are then going to modify a function called days_in_month() which will take a year and a month as inputs, e.g.\n",
    "\n",
    "days_in_month(year=2022, month=2)\n",
    "And it will use this information to work out if the year is a leap year and decide the number of days in the month, then return that as the output, e.g.:28\n",
    "\n",
    "\n",
    "The List month_days contains the number of days in a month from January to December for a non-leap year. A leap year has 29 days in February.\n",
    "\n",
    "\n",
    "Hint\n",
    "Look at the function call at the bottom of the code to see the positional arguments. The order is very important.\n",
    "\n",
    "Feel free to choose your own parameter names.\n",
    "\n",
    "Remember that month_days is a List and Lists in Python start at position 0. So the number of days in January is month_days[0]\n",
    "\n",
    "Be careful with indentation."
   ]
  },
  {
   "cell_type": "code",
   "execution_count": 2,
   "id": "0fd82c79",
   "metadata": {},
   "outputs": [],
   "source": [
    "## Function to check the year is leap or not\n",
    "def leap(year): \n",
    "    if year % 4 == 0: \n",
    "        if year % 100 == 0:\n",
    "            if year % 400 == 0:\n",
    "                return True\n",
    "            else:\n",
    "                return False\n",
    "        else:\n",
    "            return True\n",
    "    else:\n",
    "        return False\n"
   ]
  },
  {
   "cell_type": "code",
   "execution_count": 6,
   "id": "691cf95d",
   "metadata": {},
   "outputs": [
    {
     "data": {
      "text/plain": [
       "True"
      ]
     },
     "execution_count": 6,
     "metadata": {},
     "output_type": "execute_result"
    }
   ],
   "source": [
    "leap(2024)"
   ]
  },
  {
   "cell_type": "code",
   "execution_count": 15,
   "id": "7cd4d87f",
   "metadata": {},
   "outputs": [],
   "source": [
    "##code to find the days in the specific month by year\n",
    "def days_in_month(year, month):\n",
    "    month_days = [31, 28, 31, 30, 31, 30, 31, 31, 30, 31, 30, 31]\n",
    "    if month > 12 or month < 0 :\n",
    "        return print(\"you have entered the invalid month please try again\")\n",
    "    else:\n",
    "        if month == 2 and leap(year):\n",
    "            return 29\n",
    "        else:\n",
    "            return month_days[month - 1]"
   ]
  },
  {
   "cell_type": "code",
   "execution_count": 20,
   "id": "e394ab39",
   "metadata": {},
   "outputs": [
    {
     "data": {
      "text/plain": [
       "31"
      ]
     },
     "execution_count": 20,
     "metadata": {},
     "output_type": "execute_result"
    }
   ],
   "source": [
    "days_in_month(2024, 1)"
   ]
  },
  {
   "cell_type": "code",
   "execution_count": 22,
   "id": "64525885",
   "metadata": {},
   "outputs": [
    {
     "name": "stdout",
     "output_type": "stream",
     "text": [
      "Enter the year?2024\n",
      "Enter the month between 1-12 or else you will get an ERROR2\n",
      "the days in month 2 are 29\n"
     ]
    }
   ],
   "source": [
    "## function to create the easy input for the month and year\n",
    "\n",
    "year = int(input(\"Enter the year?\"))\n",
    "month = int(input(\"Enter the month between 1-12 or else you will get an ERROR\"))\n",
    "\n",
    "days = days_in_month(year, month)\n",
    "print(f\"the days in month {month} are {days}\")"
   ]
  },
  {
   "cell_type": "code",
   "execution_count": null,
   "id": "4e79b55d",
   "metadata": {},
   "outputs": [],
   "source": []
  }
 ],
 "metadata": {
  "kernelspec": {
   "display_name": "Python 3 (ipykernel)",
   "language": "python",
   "name": "python3"
  },
  "language_info": {
   "codemirror_mode": {
    "name": "ipython",
    "version": 3
   },
   "file_extension": ".py",
   "mimetype": "text/x-python",
   "name": "python",
   "nbconvert_exporter": "python",
   "pygments_lexer": "ipython3",
   "version": "3.11.4"
  }
 },
 "nbformat": 4,
 "nbformat_minor": 5
}
